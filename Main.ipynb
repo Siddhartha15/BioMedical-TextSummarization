{
  "nbformat": 4,
  "nbformat_minor": 0,
  "metadata": {
    "colab": {
      "name": "exampleModel.ipynb",
      "provenance": [],
      "authorship_tag": "ABX9TyOBr2Hj39pwxMf7DWnz2X9s",
      "include_colab_link": true
    },
    "kernelspec": {
      "name": "python3",
      "display_name": "Python 3"
    }
  },
  "cells": [
    {
      "cell_type": "markdown",
      "metadata": {
        "id": "view-in-github",
        "colab_type": "text"
      },
      "source": [
        "<a href=\"https://colab.research.google.com/github/Siddhartha15/BioMedical-TextSummarization/blob/main/Main.ipynb\" target=\"_parent\"><img src=\"https://colab.research.google.com/assets/colab-badge.svg\" alt=\"Open In Colab\"/></a>"
      ]
    },
    {
      "cell_type": "code",
      "metadata": {
        "id": "e1yFWmthvwq1",
        "outputId": "cc89c750-736a-408d-9664-8a8ed8234bea",
        "colab": {
          "base_uri": "https://localhost:8080/",
          "height": 137
        }
      },
      "source": [
        "# !pip install wikipedia-api\n"
      ],
      "execution_count": 2,
      "outputs": [
        {
          "output_type": "stream",
          "text": [
            "Requirement already satisfied: wikipedia-api in /usr/local/lib/python3.6/dist-packages (0.5.4)\n",
            "Requirement already satisfied: requests in /usr/local/lib/python3.6/dist-packages (from wikipedia-api) (2.23.0)\n",
            "Requirement already satisfied: idna<3,>=2.5 in /usr/local/lib/python3.6/dist-packages (from requests->wikipedia-api) (2.10)\n",
            "Requirement already satisfied: chardet<4,>=3.0.2 in /usr/local/lib/python3.6/dist-packages (from requests->wikipedia-api) (3.0.4)\n",
            "Requirement already satisfied: certifi>=2017.4.17 in /usr/local/lib/python3.6/dist-packages (from requests->wikipedia-api) (2020.6.20)\n",
            "Requirement already satisfied: urllib3!=1.25.0,!=1.25.1,<1.26,>=1.21.1 in /usr/local/lib/python3.6/dist-packages (from requests->wikipedia-api) (1.24.3)\n"
          ],
          "name": "stdout"
        }
      ]
    },
    {
      "cell_type": "code",
      "metadata": {
        "id": "APlL8et3v5OI"
      },
      "source": [
        "import wikipediaapi\n",
        "\n",
        "\n",
        "def get_article(topic):\n",
        "    wiki = wikipediaapi.Wikipedia(language='en', extract_format=wikipediaapi.ExtractFormat.WIKI)\n",
        "    try:\n",
        "        p_wiki = wiki.page(topic)\n",
        "    except:\n",
        "        print(\"Page \" + topic + \" Exists: False\")\n",
        "        quit()\n",
        "\n",
        "    return p_wiki.text, p_wiki.summary"
      ],
      "execution_count": 11,
      "outputs": []
    },
    {
      "cell_type": "code",
      "metadata": {
        "id": "fKm-zyihwGDS",
        "outputId": "62dc96e7-63e7-496b-a05f-c5387c414933",
        "colab": {
          "base_uri": "https://localhost:8080/",
          "height": 84
        }
      },
      "source": [
        "import string\n",
        "\n",
        "# import nltk\n",
        "from textblob import TextBlob\n",
        "\n",
        "import nltk\n",
        "nltk.download('punkt')\n",
        "nltk.download('stopwords')\n",
        "\n",
        "def tokenize(raw):\n",
        "    sent = nltk.sent_tokenize(raw)\n",
        "    sent = list(map(lambda x: x.translate(string.punctuation), sent))\n",
        "    sent = [word for word in sent if len(word) >= 10]\n",
        "    return sent\n",
        "\n",
        "\n",
        "def textblob_tokenizer(str_input):\n",
        "    blob = TextBlob(str_input.lower())\n",
        "    tokens = blob.words\n",
        "    words = [token.stem() for token in tokens]\n",
        "    return words"
      ],
      "execution_count": 12,
      "outputs": [
        {
          "output_type": "stream",
          "text": [
            "[nltk_data] Downloading package punkt to /root/nltk_data...\n",
            "[nltk_data]   Package punkt is already up-to-date!\n",
            "[nltk_data] Downloading package stopwords to /root/nltk_data...\n",
            "[nltk_data]   Package stopwords is already up-to-date!\n"
          ],
          "name": "stdout"
        }
      ]
    },
    {
      "cell_type": "code",
      "metadata": {
        "id": "G0PlhLjpwObN"
      },
      "source": [
        "  \n",
        "import pandas as pd\n",
        "\n",
        "columns = ['name', 'f', 'p', 'r', 'text']\n",
        "\n",
        "\n",
        "def gen_serie(name, rouge, text):\n",
        "    return pd.Series([\n",
        "        name,\n",
        "        rouge[0]['rouge-l']['f'],\n",
        "        rouge[0]['rouge-l']['p'],\n",
        "        rouge[0]['rouge-l']['r'],\n",
        "        text],\n",
        "        index=columns)"
      ],
      "execution_count": 5,
      "outputs": []
    },
    {
      "cell_type": "code",
      "metadata": {
        "id": "dFzcaizxw_qk",
        "outputId": "a06d78fc-dca2-4f0c-fcbb-a9722765d9ba",
        "colab": {
          "base_uri": "https://localhost:8080/",
          "height": 120
        }
      },
      "source": [
        "# !pip install rouge"
      ],
      "execution_count": 6,
      "outputs": [
        {
          "output_type": "stream",
          "text": [
            "Collecting rouge\n",
            "  Downloading https://files.pythonhosted.org/packages/43/cc/e18e33be20971ff73a056ebdb023476b5a545e744e3fc22acd8c758f1e0d/rouge-1.0.0-py3-none-any.whl\n",
            "Requirement already satisfied: six in /usr/local/lib/python3.6/dist-packages (from rouge) (1.15.0)\n",
            "Installing collected packages: rouge\n",
            "Successfully installed rouge-1.0.0\n"
          ],
          "name": "stdout"
        }
      ]
    },
    {
      "cell_type": "code",
      "metadata": {
        "id": "l7Adb7POwmoz"
      },
      "source": [
        "\n",
        "from rouge import Rouge\n",
        "from sklearn.feature_extraction.text import TfidfVectorizer\n",
        "from sklearn.metrics.pairwise import cosine_similarity\n",
        "\n",
        "# from formatting import gen_serie\n",
        "# from tokenizer import textblob_tokenizer\n",
        "\n",
        "\n",
        "def cosine(texts, ref):\n",
        "    vec = TfidfVectorizer(tokenizer=textblob_tokenizer,\n",
        "                          stop_words='english',\n",
        "                          use_idf=True)\n",
        "    matrix = vec.fit_transform(texts)\n",
        "\n",
        "    cosine_similarities = cosine_similarity(matrix[0:1], matrix).flatten()\n",
        "\n",
        "    nb_sentences_in_base_summary = len(ref.split('.'))\n",
        "\n",
        "    cosine_similarities = list(cosine_similarities)\n",
        "    cos_results = []\n",
        "    for i in range(0, nb_sentences_in_base_summary):\n",
        "        n = cosine_similarities.index(max(cosine_similarities))\n",
        "        cos_results.append(texts[n])\n",
        "        del cosine_similarities[n]\n",
        "\n",
        "    res = ' '.join(cos_results)\n",
        "\n",
        "    r = Rouge()\n",
        "    rouge = r.get_scores(res, ref)\n",
        "\n",
        "    return gen_serie('Cosine Similarity', rouge, res)"
      ],
      "execution_count": 7,
      "outputs": []
    },
    {
      "cell_type": "code",
      "metadata": {
        "id": "m_a73mHUxQa8"
      },
      "source": [
        "import warnings\n",
        "\n",
        "import numpy as np\n",
        "import pandas as pd\n",
        "import scipy.sparse\n",
        "from rouge import Rouge\n",
        "from sklearn.cluster import KMeans\n",
        "from sklearn.feature_extraction.text import TfidfVectorizer\n",
        "from sklearn.metrics import pairwise_distances_argmin_min\n",
        "\n",
        "# from formatting import gen_serie\n",
        "# from tokenizer import textblob_tokenizer, tokenize\n",
        "\n",
        "warnings.filterwarnings(\"ignore\")\n",
        "\n",
        "\n",
        "def k_mean_distance(data, cx, cy, i_centroid, cluster_labels):\n",
        "    distances = [np.sqrt((x - cx) ** 2 + (y - cy) ** 2) for (x, y) in data[cluster_labels == i_centroid]]\n",
        "    return distances\n",
        "\n",
        "\n",
        "def delete_row_lil(mat, i):\n",
        "    if not isinstance(mat, scipy.sparse.lil_matrix):\n",
        "        raise ValueError(\"works only for LIL format -- use .tolil() first\")\n",
        "    mat.rows = np.delete(mat.rows, i)\n",
        "    mat.data = np.delete(mat.data, i)\n",
        "    mat._shape = (mat._shape[0] - 1, mat._shape[1])\n",
        "    return mat\n",
        "\n",
        "\n",
        "def cluster(texts, ref, clusters_nb):\n",
        "    vec = TfidfVectorizer(tokenizer=textblob_tokenizer,\n",
        "                          stop_words='english',\n",
        "                          use_idf=True)\n",
        "    matrix = vec.fit_transform(texts)\n",
        "\n",
        "    km = KMeans(n_clusters=clusters_nb, max_iter=10000, init='k-means++').fit(matrix)\n",
        "\n",
        "    sentences = []\n",
        "\n",
        "    nb_sentences_in_base_summary = len(tokenize(ref))\n",
        "    cnt = 0\n",
        "    for i in range(0, len(texts)):\n",
        "        closest, dist = pairwise_distances_argmin_min(km.cluster_centers_, matrix)\n",
        "        for idx in closest:\n",
        "            sentences.append(texts[idx])\n",
        "            cnt += 1\n",
        "            if cnt == nb_sentences_in_base_summary:\n",
        "                break\n",
        "        else:\n",
        "            for idx in closest:\n",
        "                length, _ = matrix.shape\n",
        "                if idx < length:\n",
        "                    matrix = delete_row_lil(matrix.tolil(), idx)\n",
        "            continue\n",
        "        break\n",
        "\n",
        "    final = [x for x in texts if x in sentences]\n",
        "    return ' '.join(final)\n",
        "\n",
        "\n",
        "def kmean(text, ref):\n",
        "    df = pd.DataFrame()\n",
        "\n",
        "    for i in range(2, 11):\n",
        "        res = cluster(text, ref, i)\n",
        "        r = Rouge()\n",
        "        rouge = r.get_scores(' '.join(res), ref)\n",
        "        df = df.append(gen_serie('K-mean-' + str(i), rouge, res), ignore_index=True)\n",
        "\n",
        "    return df"
      ],
      "execution_count": 8,
      "outputs": []
    },
    {
      "cell_type": "code",
      "metadata": {
        "id": "kCjCiT33xdaE"
      },
      "source": [
        "import heapq\n",
        "import re\n",
        "\n",
        "# import nltk\n",
        "\n",
        "\n",
        "def compute(sentences, stopwords, formatted):\n",
        "    word_frequencies = {}\n",
        "    sentence_scores = {}\n",
        "\n",
        "    for word in nltk.word_tokenize(formatted):\n",
        "        if word not in stopwords:\n",
        "            if word not in word_frequencies.keys():\n",
        "                word_frequencies[word] = 1\n",
        "            else:\n",
        "                word_frequencies[word] += 1\n",
        "\n",
        "    maximum_frequency = max(word_frequencies.values())\n",
        "\n",
        "    for word in word_frequencies.keys():\n",
        "        word_frequencies[word] = (word_frequencies[word] / maximum_frequency)\n",
        "\n",
        "    for sent in sentences:\n",
        "        for word in nltk.word_tokenize(sent.lower()):\n",
        "            if word in word_frequencies.keys():\n",
        "                if len(sent.split(' ')) < 30:\n",
        "                    if sent not in sentence_scores.keys():\n",
        "                        sentence_scores[sent] = word_frequencies[word]\n",
        "                    else:\n",
        "                        sentence_scores[sent] += word_frequencies[word]\n",
        "    return sentence_scores\n",
        "\n",
        "\n",
        "def text_rank(raw, text, ref):\n",
        "    nb = len(ref.split('.'))\n",
        "\n",
        "    formatted = re.sub('[^a-zA-Z]', ' ', raw)\n",
        "    formatted = re.sub(r'\\s+', ' ', formatted)\n",
        "\n",
        "    scores = compute(text, nltk.corpus.stopwords.words('english'), formatted)\n",
        "    sentences = heapq.nlargest(nb, scores, key=scores.get)\n",
        "\n",
        "    return ' '.join(sentences)"
      ],
      "execution_count": 9,
      "outputs": []
    },
    {
      "cell_type": "code",
      "metadata": {
        "id": "KmYBusE8xwNQ",
        "outputId": "b4b14c04-ae79-4ea6-f78b-6ec973431607",
        "colab": {
          "base_uri": "https://localhost:8080/",
          "height": 153
        }
      },
      "source": [
        "import pandas as pd\n",
        "from gensim.summarization import summarize\n",
        "from rouge import Rouge\n",
        "\n",
        "# from cosine_similarity import cosine\n",
        "# from formatting import gen_serie, columns\n",
        "# from kmean import kmean\n",
        "# from scraper import get_article\n",
        "# from text_rank import text_rank\n",
        "# from tokenizer import tokenize\n",
        "\n",
        "\n",
        "def computeal(topic):\n",
        "    raw, ref = get_article(topic)\n",
        "\n",
        "    sent = tokenize(raw)\n",
        "\n",
        "    df = pd.DataFrame()\n",
        "\n",
        "    ratio = len(ref) / len(raw)\n",
        "\n",
        "    # TextRank\n",
        "    result = text_rank(raw, sent, ref)\n",
        "\n",
        "    r = Rouge()\n",
        "    rouge = r.get_scores(result, ref)\n",
        "\n",
        "    df = df.append(gen_serie('TextRank', rouge, result), ignore_index=True)\n",
        "\n",
        "    # Gensim\n",
        "    ret = summarize(raw, ratio)\n",
        "    r = Rouge()\n",
        "    rouge = r.get_scores(ret, ref)\n",
        "    df = df.append(gen_serie('Gensim', rouge, ret), ignore_index=True)\n",
        "\n",
        "    # KMean\n",
        "    df = df.append(kmean(sent, ret))\n",
        "\n",
        "    # Cosine\n",
        "    df = df.append(cosine(sent, ref), ignore_index=True)\n",
        "\n",
        "    # Rearrange columns\n",
        "    df = df[columns]\n",
        "\n",
        "    # df.to_csv('out/' + topic + '.csv')\n",
        "\n",
        "    return df.to_json(orient='records')\n",
        "\n",
        "computeal(\"Apple\")"
      ],
      "execution_count": 13,
      "outputs": [
        {
          "output_type": "execute_result",
          "data": {
            "application/vnd.google.colaboratory.intrinsic+json": {
              "type": "string"
            },
            "text/plain": [
              "'[{\"name\":\"TextRank\",\"f\":0.2644067747,\"p\":0.24375,\"r\":0.2888888889,\"text\":\"Five species of aphids commonly attack apples: apple grain aphid, rosy apple aphid, apple aphid, spirea aphid, and the woolly apple aphid. Apples are milled or pressed to produce apple juice, which may be drunk unfiltered (called apple cider in North America), or filtered. Apples are also made into apple butter and apple jelly. An apple is an edible fruit produced by an apple tree (Malus domestica). When cooked, some apple cultivars easily form a puree known as apple sauce. Apple scab: Apple scab causes leaves to develop olive-brown spots with a velvety texture that later turn brown and become cork-like in texture. The larvae of the apple clearwing moth (red-belted clearwing) burrow through the bark and into the phloem of apple trees, potentially causing significant damage. Other pests that affect apple trees include Codling moths and apple maggots. The only apples native to North America are crab apples, which were once called \\\\\"common apples\\\\\". It is generally also hard to distinguish in the archeological record between foraged wild apples and apple plantations. Most of these cultivars are bred for eating fresh (dessert apples), though some are cultivated specifically for cooking (cooking apples) or producing cider. He awarded the apple to Aphrodite, thus indirectly causing the Trojan War.The apple was thus considered, in ancient Greece, sacred to Aphrodite. In the UK, a toffee apple is a traditional confection made by coating an apple in hot toffee and allowing it to cool.\"},{\"name\":\"Gensim\",\"f\":0.3651685346,\"p\":0.2941176471,\"r\":0.4814814815,\"text\":\"Generally, apple cultivars are propagated by grafting onto rootstocks, which control the size of the resulting tree.\\\\nDifferent cultivars are bred for various tastes and use, including cooking, eating raw and cider production.\\\\nIn 2010, the fruit\\'s genome was sequenced as part of research on disease control and selective breeding in apple production.\\\\nThe central flower of the inflorescence is called the \\\\\"king bloom\\\\\"; it opens first and can develop a larger fruit.The fruit matures in late summer or autumn, and cultivars exist in a wide range of sizes.\\\\nGrafting is an essential part of modern domesticated apple production, to be able to propagate the best cultivars; it is unclear when apple tree grafting was invented.Winter apples, picked in late autumn and stored just above freezing, have been an important food in Asia and Europe for millennia.\\\\nOne of the problems identifying apples in religion, mythology and folktales is that the word \\\\\"apple\\\\\" was used as a generic term for all (foreign) fruit, other than berries, including nuts, as late as the 17th century.\\\\nThe University of Reading\\'s work is part of the European Cooperative Programme for Plant Genetic Resources of which there are 38 countries participating in the Malus\\\\/Pyrus work group.The UK\\'s national fruit collection database contains much information on the characteristics and origin of many apples, including alternative names for what is essentially the same \\\\\"genetic\\\\\" apple cultivar.\\\\nOther desirable qualities in modern commercial apple breeding are a colorful skin, absence of russeting, ease of shipping, lengthy storage ability, high yields, disease resistance, common apple shape, and developed flavor.\\\\nDwarf rootstocks can be used to produce very small trees (less than 3.0 m or 10 ft high at maturity), which bear fruit many years earlier in their life cycle than full size trees, and are easier to harvest.\\\\nTrees grafted on dwarfing rootstocks bear about 10\\\\u201380 kg (20\\\\u2013180 lb) of fruit per year.Farms with apple orchards open them to the public so consumers can pick their own apples.Crops ripen at different times of the year according to the cultivar.\"},{\"name\":\"K-mean-2\",\"f\":0.0229885032,\"p\":0.075,\"r\":0.0135746606,\"text\":\"Generally, apple cultivars are propagated by grafting onto rootstocks, which control the size of the resulting tree. Cultivars vary in their yield and the ultimate size of the tree, even when grown on the same rootstock. Triploid cultivars have an additional reproductive barrier in that 3 sets of chromosomes cannot be divided evenly during meiosis, yielding unequal segregation of the chromosomes (aneuploids). Even in the case when a triploid plant can produce a seed (apples are an example), it occurs infrequently, and seedlings rarely survive.Because apples do not breed true when planted as seeds, although cuttings can take root and breed true, and may live for a century, grafting is usually used. Orchard mason bees are also used as supplemental pollinators in commercial orchards. When cooked, some apple cultivars easily form a puree known as apple sauce. Apples are also made into apple butter and apple jelly. They are often baked or stewed and are also (cooked) in some meat dishes. Dried apples can be eaten or reconstituted (soaked in water, alcohol or some other liquid). Apples are milled or pressed to produce apple juice, which may be drunk unfiltered (called apple cider in North America), or filtered.\"},{\"name\":\"K-mean-3\",\"f\":0.02272727,\"p\":0.0697674419,\"r\":0.0135746606,\"text\":\"An apple is an edible fruit produced by an apple tree (Malus domestica). Apple trees are large if grown from seed. Generally, apple cultivars are propagated by grafting onto rootstocks, which control the size of the resulting tree. Grafting is an essential part of modern domesticated apple production, to be able to propagate the best cultivars; it is unclear when apple tree grafting was invented.Winter apples, picked in late autumn and stored just above freezing, have been an important food in Asia and Europe for millennia. Controlled atmosphere facilities are used to keep apples fresh year-round. They were first used in the United States in the 1960s. The apple as symbol of sexual seduction has been used to imply human sexuality, possibly in an ironic vein. Cultivars bred for raw consumption are termed dessert or table apples. Apples are also made into apple butter and apple jelly. They are often baked or stewed and are also (cooked) in some meat dishes.\"},{\"name\":\"K-mean-4\",\"f\":0.0226415067,\"p\":0.0681818182,\"r\":0.0135746606,\"text\":\"Generally, apple cultivars are propagated by grafting onto rootstocks, which control the size of the resulting tree. The 3 to 4 cm (1 to 1 1\\\\u20442 in) flowers are white with a pink tinge that gradually fades, five petaled, with an inflorescence consisting of a cyme with 4\\\\u20136 flowers. Commercial growers aim to produce an apple that is 7 to 8.5 cm (2 3\\\\u20444 to 3 1\\\\u20444 in) in diameter, due to market preference. Cultivars vary in their yield and the ultimate size of the tree, even when grown on the same rootstock. Triploid cultivars have an additional reproductive barrier in that 3 sets of chromosomes cannot be divided evenly during meiosis, yielding unequal segregation of the chromosomes (aneuploids). The flowers turn a creamy yellow color and do not develop correctly. They are often baked or stewed and are also (cooked) in some meat dishes. Apples are milled or pressed to produce apple juice, which may be drunk unfiltered (called apple cider in North America), or filtered. The variety of apple, maturity and storage conditions can change the amount of allergen present in individual fruits. Individuals with this form of allergy can also develop reactions to other fruits and nuts.\"},{\"name\":\"K-mean-5\",\"f\":0.0150375912,\"p\":0.0444444444,\"r\":0.0090497738,\"text\":\"Apple trees are large if grown from seed. Trees and fruit are prone to a number of fungal, bacterial and pest problems, which can be controlled by a number of organic and non-organic means. For instance, in Greek mythology, the Greek hero Heracles, as a part of his Twelve Labours, was required to travel to the Garden of the Hesperides and pick the golden apples off the Tree of Life growing at its center.The Greek goddess of discord, Eris, became disgruntled after she was excluded from the wedding of Peleus and Thetis. Despite the proverb, there is no evidence that eating an apple daily has any significant health effects. In the UK, a toffee apple is a traditional confection made by coating an apple in hot toffee and allowing it to cool. Apples are also made into apple butter and apple jelly. They are often baked or stewed and are also (cooked) in some meat dishes. Apples are milled or pressed to produce apple juice, which may be drunk unfiltered (called apple cider in North America), or filtered. Organic production+Organic apples are commonly produced in the United States.\"},{\"name\":\"K-mean-6\",\"f\":0.0295202922,\"p\":0.08,\"r\":0.0180995475,\"text\":\"It took all three apples and all of his speed, but Hippomenes was finally successful, winning the race and Atalanta\\'s hand. Cultivars+There are more than 7,500 known cultivars of apples. Dwarf rootstocks can be used to produce very small trees (less than 3.0 m or 10 ft high at maturity), which bear fruit many years earlier in their life cycle than full size trees, and are easier to harvest. Organic methods include, for instance, introducing its natural predator to reduce the population of a particular pest. Three of the more common diseases or pests are mildew, aphids, and apple scab. Apples are also made into apple butter and apple jelly. Apples are milled or pressed to produce apple juice, which may be drunk unfiltered (called apple cider in North America), or filtered. Cooking does not break down the protein causing this particular reaction, so affected individuals cannot eat raw or cooked apples. North Point Press. ISBN 978-0-86547-579-3.\"},{\"name\":\"K-mean-7\",\"f\":0.0150375912,\"p\":0.0444444444,\"r\":0.0090497738,\"text\":\"This new understanding of the apple genome will help scientists identify genes and gene variants that contribute to resistance to disease and drought, and other desirable characteristics. She outran all but Hippomenes (also known as Melanion, a name possibly derived from melon the Greek word for both \\\\\"apple\\\\\" and fruit in general), who defeated her by cunning, not speed. Cultivars vary in their yield and the ultimate size of the tree, even when grown on the same rootstock. Most of these cultivars are bred for eating fresh (dessert apples), though some are cultivated specifically for cooking (cooking apples) or producing cider. In the United Kingdom, old cultivars such as \\'Cox\\'s Orange Pippin\\' and \\'Egremont Russet\\' are still commercially important even though by modern standards they are low yielding and susceptible to disease. The aphid species can be identified by color, time of year, and by differences in the cornicles (small paired projections from their rear). Apple juice is often concentrated and frozen. Apples are also made into apple butter and apple jelly. Browning reduces apple taste, color, and food value. Allergic reactions are triggered by a protein in apples that is similar to birch pollen, and people affected by this protein can also develop allergies to other fruits, nuts, and vegetables.\"},{\"name\":\"K-mean-8\",\"f\":0.0150375912,\"p\":0.0444444444,\"r\":0.0090497738,\"text\":\"An apple is an edible fruit produced by an apple tree (Malus domestica). The tree originated in Central Asia, where its wild ancestor, Malus sieversii, is still found today. There are more than 7,500 known cultivars of apples, resulting in a range of desired characteristics. Controlled atmosphere facilities use high humidity, low oxygen, and controlled carbon dioxide levels to maintain fruit freshness. Most of these cultivars are bred for eating fresh (dessert apples), though some are cultivated specifically for cooking (cooking apples) or producing cider. Extremely sweet apples with barely any acid flavor are popular in Asia, especially the Indian Subcontinent.Old cultivars are often oddly shaped, russeted, and grow in a variety of textures and colors. Otherwise, there is low content of micronutrients, with the Daily Values of all falling below 10%, indicating a nutritionally poor food source. Apples can be consumed various ways: juice, raw in salads, baked in pies, cooked into sauces and spreads like apple butter, and other baked dishes.Apples are sometimes used as an ingredient in savory foods, such as sausage and stuffing.Several techniques are used to preserve apples and apple products. Apple juice is often concentrated and frozen. Individuals with this form of allergy can also develop reactions to other fruits and nuts.\"},{\"name\":\"K-mean-9\",\"f\":0.0225563882,\"p\":0.0666666667,\"r\":0.0135746606,\"text\":\"The tree originated in Central Asia, where its wild ancestor, Malus sieversii, is still found today. Greek mythology+Apples appear in many religious traditions, often as a mystical or forbidden fruit. She outran all but Hippomenes (also known as Melanion, a name possibly derived from melon the Greek word for both \\\\\"apple\\\\\" and fruit in general), who defeated her by cunning, not speed. Hippomenes knew that he could not win in a fair race, so he used three golden apples (gifts of Aphrodite, the goddess of love) to distract Atalanta. Cultivars vary in their yield and the ultimate size of the tree, even when grown on the same rootstock. Modern apples are generally sweeter than older cultivars, as popular tastes in apples have varied over time. Pests and diseases+Apple trees are susceptible to a number of fungal and bacterial diseases and insect pests. Organic production+Organic apples are commonly produced in the United States. Arctic Apples, a non-browning group of apples introduced to the United States market in 2019, have been genetically modified to silence the expression of polyphenol oxidase, thereby delaying a browning effect and improving apple eating quality. Cooking does not break down the protein causing this particular reaction, so affected individuals cannot eat raw or cooked apples.\"},{\"name\":\"K-mean-10\",\"f\":0.0303030276,\"p\":0.0930232558,\"r\":0.0180995475,\"text\":\"The tree originated in Central Asia, where its wild ancestor, Malus sieversii, is still found today. Apples have religious and mythological significance in many cultures, including Norse, Greek, and European Christian tradition. The skin of ripe apples is generally red, yellow, green, pink, or russetted, though many bi- or tri-colored cultivars may be found. This new understanding of the apple genome will help scientists identify genes and gene variants that contribute to resistance to disease and drought, and other desirable characteristics. There is indirect evidence of apple cultivation in the third millennium BCE in the Middle East. To throw an apple at someone was to symbolically declare one\\'s love; and similarly, to catch it was to symbolically show one\\'s acceptance of that love. Dwarf rootstocks can be used to produce very small trees (less than 3.0 m or 10 ft high at maturity), which bear fruit many years earlier in their life cycle than full size trees, and are easier to harvest. Three of the more common diseases or pests are mildew, aphids, and apple scab. Apple juice is often concentrated and frozen. Individuals with this form of allergy can also develop reactions to other fruits and nuts.\"},{\"name\":\"Cosine Similarity\",\"f\":0.2888888839,\"p\":0.2888888889,\"r\":0.2888888889,\"text\":\"An apple is an edible fruit produced by an apple tree (Malus domestica). Unusually for domesticated fruits, the wild M. sieversii origin is only slightly smaller than the modern domesticated apple.At the Sammardenchia-Cueis site near Udine in Northeastern Italy, seeds from some form of apples have been found in material carbon dated to around 4000 BCE. The exocarp (flesh) is generally pale yellowish-white, though pink or yellow exocarps also occur. An apple is an edible fruit produced by an apple tree (Malus domestica). An apple is an edible fruit produced by an apple tree (Malus domestica). The skin is covered in a protective layer of epicuticular wax. Similar treats in the U.S. are candy apples (coated in a hard shell of crystallized sugar syrup) and caramel apples (coated with cooled caramel). Cultivation+Breeding+Many apples grow readily from seeds. Description+The apple is a deciduous tree, generally standing 2 to 4.5 m (6 to 15 ft) tall in cultivation and up to 9 m (30 ft) in the wild. The tree originated in Central Asia, where its wild ancestor, Malus sieversii, is still found today. Research+Preliminary research is investigating whether apple consumption may affect the risk of some types of cancer. Similar treats in the U.S. are candy apples (coated in a hard shell of crystallized sugar syrup) and caramel apples (coated with cooled caramel). This reaction only occurs when raw fruit is consumed\\\\u2014the allergen is neutralized in the cooking process.\"}]'"
            ]
          },
          "metadata": {
            "tags": []
          },
          "execution_count": 13
        }
      ]
    }
  ]
}